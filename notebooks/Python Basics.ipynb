{
 "cells": [
  {
   "cell_type": "markdown",
   "metadata": {},
   "source": [
    "# Python\n",
    "Created by Guido Van Rossum\n",
    "General-purpose interpreted, interactive, object-oriented, and high-level programming language.\n",
    "\n",
    "# Why Python\n",
    "Platform independent \n",
    "Simple \n",
    "Powerful\n",
    "Readability"
   ]
  },
  {
   "cell_type": "markdown",
   "metadata": {},
   "source": [
    "# Tokens\n",
    "Keywords\n",
    "Idetifiers/variables\n",
    "Data Types\n",
    "Numbers * String * complex *boolean\n",
    "\n",
    "# Operators\n",
    "Arithmetic Operators\n",
    "Comparison (Relational) Operators\n",
    "Assignment Operators\n",
    "Logical Operators\n",
    "Bitwise Operators\n",
    "Membership Operators\n",
    "Identity Operators"
   ]
  },
  {
   "cell_type": "code",
   "execution_count": null,
   "metadata": {},
   "outputs": [],
   "source": [
    "# Dynamic Typing\n",
    "c=5+3j\n",
    "d=6j\n",
    "print(type(c))\n",
    "a=10\n",
    "print(id(a))\n",
    "print(type(a))\n",
    "a=10.5\n",
    "print(id(a))\n",
    "print(type(a))\n",
    "a='10'\n",
    "print(type(a))"
   ]
  },
  {
   "cell_type": "code",
   "execution_count": null,
   "metadata": {},
   "outputs": [],
   "source": [
    "# Operator Example\n",
    "x=10\n",
    "y=10\n",
    "print(id(x))\n",
    "print(id(y))\n",
    "print(x is y)\n",
    "x=20\n",
    "print(id(x))\n",
    "print (5 and 3 and 2)\n",
    "print (5 & 3 & 2)"
   ]
  },
  {
   "cell_type": "markdown",
   "metadata": {},
   "source": [
    "# My First program using print"
   ]
  },
  {
   "cell_type": "code",
   "execution_count": null,
   "metadata": {},
   "outputs": [],
   "source": [
    "print(\"THIS IS PYTHON TUTORIAL\")\n",
    "print ('Robin Joseph')\n",
    "print (\"\"\"Python Program\"\"\")\n",
    "print(\"\"\"my name is \"Robin Joseph\" \"\"\")"
   ]
  },
  {
   "cell_type": "code",
   "execution_count": 31,
   "metadata": {},
   "outputs": [
    {
     "name": "stdout",
     "output_type": "stream",
     "text": [
      "sum of 10 and 20 is 30\n",
      "Sum of 10 and 20 is 30\n",
      "sum of 10 and 20 is 30\n",
      "sum of 10 and 20 is 30\n"
     ]
    }
   ],
   "source": [
    "a=10\n",
    "b=20\n",
    "c=a+b\n",
    "print(\"sum of\",a, \"and\",b,\"is\",c)\n",
    "print(\"Sum of %d and %d is %d\"%(a,b,c))\n",
    "print(\"sum of {0} and {1} is {2}\".format(a,b,c))\n",
    "print(f\"sum of {a} and {b} is {c}\")"
   ]
  },
  {
   "cell_type": "markdown",
   "metadata": {},
   "source": [
    "* Reading an element\n",
    "    * input()\n",
    "* type casting/ type conversion\n",
    "* type coercion"
   ]
  },
  {
   "cell_type": "code",
   "execution_count": 26,
   "metadata": {},
   "outputs": [
    {
     "name": "stdout",
     "output_type": "stream",
     "text": [
      "Enter a number:10\n",
      "Number is  10\n",
      "Enter an number:20\n",
      "Number is  20\n",
      "1020\n"
     ]
    }
   ],
   "source": [
    "a=input(\"Enter a number:\")\n",
    "print(\"Number is \",a)\n",
    "b=input(\"Enter an number:\")\n",
    "print(\"Number is \",b)\n",
    "c=a+b\n",
    "print(c)"
   ]
  },
  {
   "cell_type": "code",
   "execution_count": null,
   "metadata": {},
   "outputs": [],
   "source": [
    "print(type(a))\n",
    "print(type(b))"
   ]
  },
  {
   "cell_type": "code",
   "execution_count": null,
   "metadata": {},
   "outputs": [],
   "source": [
    "c=int(a)+ int(b)\n",
    "print(type(a))\n",
    "a=int(a)\n",
    "print(type(a))\n",
    "x = 5 + 3.0  # type coercion\n",
    "print (x,type(x))"
   ]
  },
  {
   "cell_type": "code",
   "execution_count": null,
   "metadata": {},
   "outputs": [],
   "source": [
    "a=int(input(\"enter\"))\n",
    "print(type(a))"
   ]
  },
  {
   "cell_type": "code",
   "execution_count": null,
   "metadata": {},
   "outputs": [],
   "source": [
    "#try to enter two values using single input function\n",
    "a,b=\n",
    "print (a,b)"
   ]
  },
  {
   "cell_type": "markdown",
   "metadata": {},
   "source": [
    "# Strings\n",
    "Creating\n",
    "Accessing\n",
    "indexing * Slicing\n",
    "Operators\n",
    "*  +\n",
    "String Methods index() find() count() lower() join split isalnum() replace(old, new)"
   ]
  },
  {
   "cell_type": "code",
   "execution_count": null,
   "metadata": {},
   "outputs": [],
   "source": [
    "str=\"hello Pyhton\"\n",
    "print(str)\n",
    "print(str[0])\n",
    "l=len(str)\n",
    "print (l)\n",
    "print(str[-1])\n",
    "print(str[5:0:-1])\n",
    "print(str[6:])\n",
    "print(str[::-1])"
   ]
  },
  {
   "cell_type": "code",
   "execution_count": null,
   "metadata": {},
   "outputs": [],
   "source": [
    "s=\"hello-how-are-you\"\n",
    "l=s.split(\"-\")\n",
    "print(l)\n",
    "x=\"-\"\n",
    "print(x.join(l))"
   ]
  },
  {
   "cell_type": "markdown",
   "metadata": {},
   "source": [
    "# Python Control Structures\n",
    "* Conditional\n",
    "    * if\n",
    "* looping\n",
    "    * while \n",
    "    * for"
   ]
  },
  {
   "cell_type": "code",
   "execution_count": null,
   "metadata": {},
   "outputs": [],
   "source": [
    "#conditional stmt\n",
    "gpa = 1.4\n",
    "if gpa > 2.0:\n",
    "   print(\"Welcome to Mars University!\")\n",
    "else:\n",
    "   print(\"Your application is denied.\")"
   ]
  },
  {
   "cell_type": "markdown",
   "metadata": {},
   "source": [
    "# Looping / Iterative Statements"
   ]
  },
  {
   "cell_type": "code",
   "execution_count": 27,
   "metadata": {},
   "outputs": [
    {
     "name": "stdout",
     "output_type": "stream",
     "text": [
      "1\n",
      "2\n",
      "3\n",
      "4\n",
      "5\n",
      "6\n",
      "7\n",
      "8\n",
      "9\n",
      "10\n"
     ]
    }
   ],
   "source": [
    "number = 1\n",
    "while number < 11:\n",
    "    print(number)\n",
    "    number = number + 1"
   ]
  },
  {
   "cell_type": "code",
   "execution_count": null,
   "metadata": {},
   "outputs": [],
   "source": [
    "for i in range(1,11):\n",
    "    print (i)"
   ]
  },
  {
   "cell_type": "code",
   "execution_count": 30,
   "metadata": {},
   "outputs": [
    {
     "name": "stdout",
     "output_type": "stream",
     "text": [
      "1 2 3 4 5 6 7 8 9 10 "
     ]
    }
   ],
   "source": [
    "for i in range(1,11):\n",
    "    print (i, end=\" \")\n",
    "    i+=2"
   ]
  },
  {
   "cell_type": "markdown",
   "metadata": {},
   "source": [
    "# Python Data Structures\n",
    "* List\n",
    "* Dictionary\n",
    "* Tuples\n",
    "* Sets"
   ]
  },
  {
   "cell_type": "markdown",
   "metadata": {},
   "source": [
    "# List\n",
    "* Creation\n",
    "* Accessing\n",
    "    * Indexing * Slicing\n",
    "* List methods\n",
    "    append(item) insert(pos,item) pop() remove(item) reverse() sort() extend(seq)"
   ]
  },
  {
   "cell_type": "code",
   "execution_count": null,
   "metadata": {},
   "outputs": [],
   "source": [
    "# Python Lists\n",
    "list = [ 'abcd', 786 , 2.23, 'john', 70.2 ]  # A list\n",
    "print(list)            # Prints complete list\n",
    "print(list[0])         # Prints first element of the list\n",
    "x =[10,20,30,40,50,60]\n",
    "x[:] \n",
    "x[2:4] \n",
    "x[:-2]\n",
    "x.clear()\n",
    "print(x)"
   ]
  },
  {
   "cell_type": "markdown",
   "metadata": {},
   "source": [
    "# Dictionary\n",
    "* Creation\n",
    "* Accessing\n",
    "* Dictionary Methods\n",
    "    keys() values() items() get() setdefault() clear() copy()"
   ]
  },
  {
   "cell_type": "code",
   "execution_count": null,
   "metadata": {},
   "outputs": [],
   "source": [
    "tel = {'jack': 4098, 'sape': 4139}\n",
    "tel['guido'] = 4127\n",
    "tel['irv'] = 4123\n",
    "tel['abc'] = 1234\n",
    "k=list(tel.keys())\n",
    "v=list(tel.values())\n",
    "print (tel)\n",
    "print(k)\n",
    "print(v)\n",
    "d=dict(zip(k,v))\n",
    "print (d)\n",
    "print(tel.get('jack'))  \n",
    "for i in d:\n",
    "    print (d[i])\n",
    "for k,v in d.items():\n",
    "    print (k,v)\n",
    "print(d.get('abc',\"default\"))"
   ]
  },
  {
   "cell_type": "markdown",
   "metadata": {},
   "source": [
    "# Sets "
   ]
  },
  {
   "cell_type": "code",
   "execution_count": 25,
   "metadata": {},
   "outputs": [
    {
     "name": "stdout",
     "output_type": "stream",
     "text": [
      "<class 'set'>\n",
      "{1, 2, 3, 5, 7}\n",
      "{1, 2, 3}\n",
      "{1, 2, 3, 5, 6, 7}\n",
      "{5, 7}\n",
      "{1, 2, 3, 6}\n",
      "{1, 2, 3}\n",
      "frozenset({1, 2, 3})\n"
     ]
    },
    {
     "data": {
      "text/plain": [
       "frozenset({1, 2, 3})"
      ]
     },
     "execution_count": 25,
     "metadata": {},
     "output_type": "execute_result"
    }
   ],
   "source": [
    "s={1,2,3} # mutable and unordered\n",
    "s2={5,6,7}\n",
    "print(type(s))\n",
    "s.add(3)\n",
    "s.add(7)\n",
    "s.add(5)\n",
    "print(s)\n",
    "# set difference\n",
    "print(s.difference(s2)) #or s-s2\n",
    "print(s.union(s2)) # or s|s2\n",
    "print(s.intersection(s2))# or s&s2\n",
    "print(s.symmetric_difference(s2)) # s ^ s2\n",
    "# s<s2 # check if s subset of s2\n",
    "# s>s2 # check if s superset of s2\n",
    "s-= s2 #s.difference_update(s2) \n",
    "print(s)\n",
    "fs=frozenset(s)\n",
    "print(fs)\n",
    "fs - s2\n",
    "#fs.add(10) # shows error as immutable\n",
    "#s.pop() #pop any element\n",
    "#s.discard(item)  #del itme --> no exception if item not present\n",
    "#s.remove(item)   #del item"
   ]
  },
  {
   "cell_type": "code",
   "execution_count": null,
   "metadata": {},
   "outputs": [],
   "source": []
  },
  {
   "cell_type": "markdown",
   "metadata": {},
   "source": [
    "# List Comprehension"
   ]
  },
  {
   "cell_type": "code",
   "execution_count": 9,
   "metadata": {},
   "outputs": [
    {
     "data": {
      "text/plain": [
       "[[1, 1, 1], [1, 1, 1]]"
      ]
     },
     "execution_count": 9,
     "metadata": {},
     "output_type": "execute_result"
    }
   ],
   "source": [
    "l1=[i for i in range(10)]\n",
    "l2=[i*i for i in range(1,11)]\n",
    "l3=[i for i in range(1,11) if i%2==0]\n",
    "l4=[\"Even\" if (i%2==0) else \"odd\" for i in range(8)]\n",
    "#Create a 2D MATRIX\n",
    "#Create identity matrix of 2X3\n",
    "l5=[[1 for j in range(3)]for i in range(2)]\n",
    "# read a matrix of order 2X3\n",
    "l6=\n",
    "#create a 3X3 matrix with diagonal elements as 1 and other as 0\n",
    "l7="
   ]
  },
  {
   "cell_type": "code",
   "execution_count": null,
   "metadata": {},
   "outputs": [],
   "source": [
    "def transpose(m):\n",
    "    rows = len(m)\n",
    "    cols= len(m[0])\n",
    "    return [ [ m[i][j] for i in range(rows) ] for j in range(cols) ]"
   ]
  },
  {
   "cell_type": "code",
   "execution_count": null,
   "metadata": {},
   "outputs": [],
   "source": [
    "m=[[1,2,3],[4,5,6]]\n",
    "print (transpose(m))"
   ]
  },
  {
   "cell_type": "code",
   "execution_count": null,
   "metadata": {},
   "outputs": [],
   "source": [
    "# Upper triangular matrix"
   ]
  },
  {
   "cell_type": "code",
   "execution_count": 10,
   "metadata": {},
   "outputs": [],
   "source": [
    "# Check odd using \n",
    "def is_odd(ele):\n",
    "    return True if (ele%2) else False"
   ]
  },
  {
   "cell_type": "code",
   "execution_count": 11,
   "metadata": {},
   "outputs": [
    {
     "data": {
      "text/plain": [
       "True"
      ]
     },
     "execution_count": 11,
     "metadata": {},
     "output_type": "execute_result"
    }
   ],
   "source": [
    "is_odd(5)"
   ]
  },
  {
   "cell_type": "code",
   "execution_count": 12,
   "metadata": {},
   "outputs": [],
   "source": [
    "# Program to store all the prime no:s upto n into a list"
   ]
  },
  {
   "cell_type": "code",
   "execution_count": 38,
   "metadata": {},
   "outputs": [],
   "source": [
    "def is_prime(n):\n",
    "    pass\n",
    "    #return True if all([n%i for i in range(2,n//2+1)]) else False"
   ]
  },
  {
   "cell_type": "code",
   "execution_count": 39,
   "metadata": {},
   "outputs": [],
   "source": [
    "def n_prime(n):\n",
    "    pass\n",
    "    #return [i for i in range(2,n+1) if is_prime(i)]"
   ]
  },
  {
   "cell_type": "code",
   "execution_count": 40,
   "metadata": {},
   "outputs": [
    {
     "data": {
      "text/plain": [
       "[2, 3, 5, 7, 11, 13, 17, 19]"
      ]
     },
     "execution_count": 40,
     "metadata": {},
     "output_type": "execute_result"
    }
   ],
   "source": [
    "n_prime(20)"
   ]
  },
  {
   "cell_type": "code",
   "execution_count": 37,
   "metadata": {},
   "outputs": [
    {
     "data": {
      "text/plain": [
       "False"
      ]
     },
     "execution_count": 37,
     "metadata": {},
     "output_type": "execute_result"
    }
   ],
   "source": [
    "is_prime(20)"
   ]
  },
  {
   "cell_type": "code",
   "execution_count": null,
   "metadata": {},
   "outputs": [],
   "source": []
  }
 ],
 "metadata": {
  "kernelspec": {
   "display_name": "Python 3",
   "language": "python",
   "name": "python3"
  },
  "language_info": {
   "codemirror_mode": {
    "name": "ipython",
    "version": 3
   },
   "file_extension": ".py",
   "mimetype": "text/x-python",
   "name": "python",
   "nbconvert_exporter": "python",
   "pygments_lexer": "ipython3",
   "version": "3.6.5"
  }
 },
 "nbformat": 4,
 "nbformat_minor": 2
}
