{
  "nbformat": 4,
  "nbformat_minor": 0,
  "metadata": {
    "colab": {
      "name": "ANN_churnModel.ipynb",
      "version": "0.3.2",
      "provenance": [],
      "include_colab_link": true
    },
    "kernelspec": {
      "name": "python3",
      "display_name": "Python 3"
    }
  },
  "cells": [
    {
      "cell_type": "markdown",
      "metadata": {
        "id": "view-in-github",
        "colab_type": "text"
      },
      "source": [
        "<a href=\"https://colab.research.google.com/github/haseena-hassan/Women-Hackathon-Residential-Camp/blob/master/ANN_churnModel.ipynb\" target=\"_parent\"><img src=\"https://colab.research.google.com/assets/colab-badge.svg\" alt=\"Open In Colab\"/></a>"
      ]
    },
    {
      "cell_type": "code",
      "metadata": {
        "id": "aAUvo7FKwDee",
        "colab_type": "code",
        "colab": {}
      },
      "source": [
        "\"\"\"\n",
        "Created on Sun Sep  1 11:53:00 2019\n",
        "\n",
        "@author: haseena\n",
        "\"\"\"\n",
        "#import libraries\n",
        "import numpy as np\n",
        "import matplotlib.pyplot as plt\n",
        "import pandas as pd\n",
        "\n",
        "#importing the dataset\n",
        "dataset = pd.read_csv('Churn_Modelling.csv')\n",
        "\n",
        "#removing irrelevant attributes\n",
        "dataset_dmy = dataset.drop(['RowNumber', 'CustomerId', 'Surname'], axis = 1)\n",
        "\n",
        "#Encoding categorical data\n",
        "region = pd.get_dummies(dataset_dmy['Geography'], drop_first = True)\n",
        "gender = pd.get_dummies(dataset_dmy['Gender'], drop_first = True)\n",
        "\n",
        "dataset_dmy.drop(['Geography', 'Gender'], axis = 1, inplace = True)\n",
        "dataset_final = pd.concat([region, gender, dataset_dmy], axis = 1)\n",
        "\n",
        "#make the data into independent\n",
        "X = dataset_final.iloc[:, :-1].values\n",
        "Y = dataset_final.iloc[:, 11 ].values\n",
        "\n",
        "#Splitting the dataset into training and testing set\n",
        "from sklearn.model_selection import train_test_split\n",
        "X_train, X_test, Y_train, Y_test = train_test_split( X, Y, test_size = 0.2, random_state = 101)\n",
        "\n",
        "#Feature scaling to bring all values to a specific range\n",
        "from sklearn.preprocessing import StandardScaler\n",
        "sc = StandardScaler()\n",
        "X_train = sc.fit_transform(X_train)\n",
        "X_test = sc.fit_transform(X_test)\n",
        "\n",
        "#Creating ANN\n",
        "#importing Keras libraries and packages\n",
        "import keras\n",
        "from keras.models import Sequential     #overall model as an object\n",
        "from keras.layers import Dense          #to include hidden layers or simply points to each model in the model\n",
        "\n",
        "#initialise the ANN\n",
        "classifier = Sequential()\n",
        "\n",
        "#adding input layer and first hidden layer\n",
        "classifier.add( Dense( output_dim = 6, init = 'uniform', activation = 'sigmoid', input_dim = 11))\n",
        "\n",
        "#adding second hidden layer\n",
        "classifier.add( Dense( output_dim = 6, init = 'uniform', activation = 'sigmoid'))\n",
        "\n",
        "#adding the output layer\n",
        "classifier.add( Dense( output_dim = 1, init = 'uniform', activation = 'sigmoid'))\n",
        "\n",
        "#compiling the ANN\n",
        "classifier.compile(optimizer = 'adam', loss = 'binary_crossentropy', metrics = ['accuracy'])\n",
        "\n",
        "#fitting the ANN to training set\n",
        "x1 = classifier.fit( X_train, Y_train, batch_size = 10, nb_epoch = 100)\n",
        "\n",
        "#Making predictions and evaluating our model\n",
        "#Predicting the testset results\n",
        "y_pred = classifier.predict(X_test)\n",
        "y_pred = (y_pred > 0.5)\n"
      ],
      "execution_count": 0,
      "outputs": []
    },
    {
      "cell_type": "code",
      "metadata": {
        "id": "CW5-zJh8xXXP",
        "colab_type": "code",
        "colab": {}
      },
      "source": [
        "#making the confusion matrix\n",
        "from sklearn.metrics import confusion_matrix\n",
        "cm = confusion_matrix(Y_test, y_pred)"
      ],
      "execution_count": 0,
      "outputs": []
    },
    {
      "cell_type": "code",
      "metadata": {
        "id": "tz2k6qYyxqcq",
        "colab_type": "code",
        "colab": {
          "base_uri": "https://localhost:8080/",
          "height": 179
        },
        "outputId": "d3c8f85e-957a-4ad6-852d-9be265dd9b17"
      },
      "source": [
        "from sklearn.metrics import classification_report\n",
        "rep = classification_report(Y_test, y_pred)\n",
        "print(rep)"
      ],
      "execution_count": 4,
      "outputs": [
        {
          "output_type": "stream",
          "text": [
            "              precision    recall  f1-score   support\n",
            "\n",
            "           0       0.84      0.97      0.90      1577\n",
            "           1       0.73      0.34      0.46       423\n",
            "\n",
            "    accuracy                           0.83      2000\n",
            "   macro avg       0.79      0.65      0.68      2000\n",
            "weighted avg       0.82      0.83      0.81      2000\n",
            "\n"
          ],
          "name": "stdout"
        }
      ]
    },
    {
      "cell_type": "code",
      "metadata": {
        "id": "6CfVL8fayBN6",
        "colab_type": "code",
        "colab": {
          "base_uri": "https://localhost:8080/",
          "height": 35
        },
        "outputId": "9ccad7d5-dc7b-4ce3-a18c-a99102a1baf3"
      },
      "source": [
        "from sklearn.metrics import accuracy_score\n",
        "acc = accuracy_score(Y_test, y_pred) * 100\n",
        "print(\"Accuracy Score = \",acc)"
      ],
      "execution_count": 6,
      "outputs": [
        {
          "output_type": "stream",
          "text": [
            "Accuracy Score =  83.39999999999999\n"
          ],
          "name": "stdout"
        }
      ]
    },
    {
      "cell_type": "code",
      "metadata": {
        "id": "yIi9xTwEyzg1",
        "colab_type": "code",
        "colab": {}
      },
      "source": [
        ""
      ],
      "execution_count": 0,
      "outputs": []
    }
  ]
}